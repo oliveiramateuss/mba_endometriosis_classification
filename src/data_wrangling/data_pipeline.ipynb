{
 "cells": [
  {
   "cell_type": "code",
   "execution_count": 1,
   "metadata": {},
   "outputs": [],
   "source": [
    "import pandas as pd"
   ]
  },
  {
   "cell_type": "markdown",
   "metadata": {},
   "source": [
    "## Parameters"
   ]
  },
  {
   "cell_type": "code",
   "execution_count": 2,
   "metadata": {},
   "outputs": [],
   "source": [
    "run_extraction = False\n",
    "run_wrangling_2013 = True\n",
    "run_wrangling_2019 = True\n",
    "run_union = True"
   ]
  },
  {
   "cell_type": "code",
   "execution_count": null,
   "metadata": {},
   "outputs": [],
   "source": [
    "if run_extraction:\n",
    "    %run data_extraction.ipynb\n",
    "else:\n",
    "    print(\"Data extraction skipped\")"
   ]
  },
  {
   "cell_type": "code",
   "execution_count": null,
   "metadata": {},
   "outputs": [],
   "source": [
    "if run_wrangling_2013:\n",
    "    %run data_wrangling_2013.ipynb\n",
    "else:\n",
    "    print(\"Data wrangling 2013 skipped\")"
   ]
  },
  {
   "cell_type": "code",
   "execution_count": null,
   "metadata": {},
   "outputs": [],
   "source": [
    "if run_wrangling_2019:\n",
    "    %run data_wrangling_2019.ipynb\n",
    "else:\n",
    "    print(\"Data wrangling 2019 skipped\")"
   ]
  },
  {
   "cell_type": "code",
   "execution_count": 6,
   "metadata": {},
   "outputs": [],
   "source": [
    "if run_union:\n",
    "    df_2019 = pd.read_parquet(\"..\\..\\data\\staged\\PNS_2019_transformed.parquet\")\n",
    "    df_2013 = pd.read_parquet(\"..\\..\\data\\staged\\PNS_2013_transformed.parquet\")\n",
    "    df_union = pd.concat([df_2013, df_2019], join='outer', ignore_index=True)\n",
    "    df_union.to_parquet(\"..\\..\\data\\staged\\PNS_union.parquet\")\n",
    "else:\n",
    "    print(\"Union skipped\")"
   ]
  }
 ],
 "metadata": {
  "kernelspec": {
   "display_name": ".venv",
   "language": "python",
   "name": "python3"
  },
  "language_info": {
   "codemirror_mode": {
    "name": "ipython",
    "version": 3
   },
   "file_extension": ".py",
   "mimetype": "text/x-python",
   "name": "python",
   "nbconvert_exporter": "python",
   "pygments_lexer": "ipython3",
   "version": "3.10.0"
  }
 },
 "nbformat": 4,
 "nbformat_minor": 2
}
